{
  "nbformat": 4,
  "nbformat_minor": 0,
  "metadata": {
    "colab": {
      "name": "Sample.ipynb",
      "provenance": [],
      "collapsed_sections": [],
      "mount_file_id": "1-h0187M4kZE9nKFAp4ZUNP-QEHLANr7-",
      "authorship_tag": "ABX9TyMM/s6aZe4luuZzcUAsDIZu",
      "include_colab_link": true
    },
    "kernelspec": {
      "name": "python3",
      "display_name": "Python 3"
    },
    "language_info": {
      "name": "python"
    },
    "accelerator": "GPU"
  },
  "cells": [
    {
      "cell_type": "markdown",
      "metadata": {
        "id": "view-in-github",
        "colab_type": "text"
      },
      "source": [
        "<a href=\"https://colab.research.google.com/github/leowu0514/Classical-Music-Transformer/blob/master/Sample.ipynb\" target=\"_parent\"><img src=\"https://colab.research.google.com/assets/colab-badge.svg\" alt=\"Open In Colab\"/></a>"
      ]
    },
    {
      "cell_type": "code",
      "metadata": {
        "colab": {
          "base_uri": "https://localhost:8080/"
        },
        "id": "eMMTy_3uIe8b",
        "outputId": "e8c0d905-c650-4672-82ae-b5278d8fbc1f"
      },
      "source": [
        "!pip install pretty_midi\n",
        "!gdown https://drive.google.com/uc?id=1E6i0nW5ywc6ETATAUq8rtEVFbSkUEdcz\n",
        "!gdown https://drive.google.com/uc?id=1gfKauDiiZxW-xSX4jYCVXldfIDb_Y3g0\n",
        "!gdown https://drive.google.com/uc?id=14SFZ7nAL5OOoYQ9Pap4hyg_seRweuOsV\n",
        "!gdown https://drive.google.com/uc?id=1maCyJZi2qxwgIwqRL1--0D2bwPwGgmT1\n"
      ],
      "execution_count": 1,
      "outputs": [
        {
          "output_type": "stream",
          "text": [
            "Collecting pretty_midi\n",
            "  Downloading pretty_midi-0.2.9.tar.gz (5.6 MB)\n",
            "\u001b[K     |████████████████████████████████| 5.6 MB 6.8 MB/s \n",
            "\u001b[?25hRequirement already satisfied: numpy>=1.7.0 in /usr/local/lib/python3.7/dist-packages (from pretty_midi) (1.19.5)\n",
            "Collecting mido>=1.1.16\n",
            "  Downloading mido-1.2.10-py2.py3-none-any.whl (51 kB)\n",
            "\u001b[K     |████████████████████████████████| 51 kB 8.8 MB/s \n",
            "\u001b[?25hRequirement already satisfied: six in /usr/local/lib/python3.7/dist-packages (from pretty_midi) (1.15.0)\n",
            "Building wheels for collected packages: pretty-midi\n",
            "  Building wheel for pretty-midi (setup.py) ... \u001b[?25l\u001b[?25hdone\n",
            "  Created wheel for pretty-midi: filename=pretty_midi-0.2.9-py3-none-any.whl size=5591955 sha256=9b89327ffc5dc1800604ebd9def305c404c08231c29b69010e1fa2ea8483deb5\n",
            "  Stored in directory: /root/.cache/pip/wheels/ad/74/7c/a06473ca8dcb63efb98c1e67667ce39d52100f837835ea18fa\n",
            "Successfully built pretty-midi\n",
            "Installing collected packages: mido, pretty-midi\n",
            "Successfully installed mido-1.2.10 pretty-midi-0.2.9\n",
            "Downloading...\n",
            "From: https://drive.google.com/uc?id=1E6i0nW5ywc6ETATAUq8rtEVFbSkUEdcz\n",
            "To: /content/checkpoint.pt\n",
            "166MB [00:00, 202MB/s]\n",
            "Downloading...\n",
            "From: https://drive.google.com/uc?id=1gfKauDiiZxW-xSX4jYCVXldfIDb_Y3g0\n",
            "To: /content/util.py\n",
            "100% 4.89k/4.89k [00:00<00:00, 4.27MB/s]\n",
            "Downloading...\n",
            "From: https://drive.google.com/uc?id=14SFZ7nAL5OOoYQ9Pap4hyg_seRweuOsV\n",
            "To: /content/model.py\n",
            "100% 8.09k/8.09k [00:00<00:00, 12.5MB/s]\n",
            "Downloading...\n",
            "From: https://drive.google.com/uc?id=1maCyJZi2qxwgIwqRL1--0D2bwPwGgmT1\n",
            "To: /content/settings.py\n",
            "100% 7.62k/7.62k [00:00<00:00, 11.9MB/s]\n"
          ],
          "name": "stdout"
        }
      ]
    },
    {
      "cell_type": "code",
      "metadata": {
        "id": "f0LraWj73qyM"
      },
      "source": [
        "from model import *\n",
        "from util import *\n",
        "from settings import *"
      ],
      "execution_count": 1,
      "outputs": []
    },
    {
      "cell_type": "code",
      "metadata": {
        "colab": {
          "base_uri": "https://localhost:8080/"
        },
        "id": "vnG5JY8UEV_r",
        "outputId": "68f72c6f-1901-4e43-f334-b92f0af1b71d"
      },
      "source": [
        "### init\n",
        "d_type = 5\n",
        "d_barpos = 34\n",
        "d_tone = 25\n",
        "d_chord = 109\n",
        "d_dur = 65\n",
        "d_pitch = 129\n",
        "d_attention = 512\n",
        "heads = 8\n",
        "N = 12\n",
        "model = Transformer()\n",
        "if torch.cuda.is_available():\n",
        "\tmodel.cuda()\n",
        "\n",
        "model.load_state_dict(torch.load(\"./checkpoint.pt\"))"
      ],
      "execution_count": 3,
      "outputs": [
        {
          "output_type": "execute_result",
          "data": {
            "text/plain": [
              "<All keys matched successfully>"
            ]
          },
          "metadata": {
            "tags": []
          },
          "execution_count": 3
        }
      ]
    },
    {
      "cell_type": "code",
      "metadata": {
        "id": "j3bdim8ADpMK"
      },
      "source": [
        "### make start seq\n",
        "start_seq = [\"bar\", \"phrase\", \"pos0\", \"noteC4dur8\"]\n",
        "\n",
        "### seq to input\n",
        "type_oh, barpos_oh, tone_oh, chord_oh, dur_oh, pitch_oh = seq2input(start_seq)"
      ],
      "execution_count": 4,
      "outputs": []
    },
    {
      "cell_type": "code",
      "metadata": {
        "id": "C_s4KWW_Ewod"
      },
      "source": [
        "### sample how many events\n",
        "num_event = 200\n",
        "\n",
        "### sampling\n",
        "for i in range(len(start_seq) - 1, num_event):\n",
        "\tif i > 127:\n",
        "\t\ttype_input = type_oh[i-127:i+1].unsqueeze(0)\n",
        "\t\tbarpos_input = barpos_oh[i-127:i+1].unsqueeze(0)\n",
        "\t\ttone_input = tone_oh[i-127:i+1].unsqueeze(0)\n",
        "\t\tchord_input = chord_oh[i-127:i+1].unsqueeze(0)\n",
        "\t\tdur_input = dur_oh[i-127:i+1].unsqueeze(0)\n",
        "\t\tpitch_input = pitch_oh[i-127:i+1].unsqueeze(0)\n",
        "\telse:\n",
        "\t\ttype_input = type_oh[:i+1].unsqueeze(0)\n",
        "\t\tbarpos_input = barpos_oh[:i+1].unsqueeze(0)\n",
        "\t\ttone_input = tone_oh[:i+1].unsqueeze(0)\n",
        "\t\tchord_input = chord_oh[:i+1].unsqueeze(0)\n",
        "\t\tdur_input = dur_oh[:i+1].unsqueeze(0)\n",
        "\t\tpitch_input = pitch_oh[:i+1].unsqueeze(0)\n",
        "\n",
        "\twith torch.no_grad():\n",
        "\t\th, pred_type = model.forward_hidden(type_input, barpos_input, tone_input, chord_input, dur_input, pitch_input, create_mask(type_input))\n",
        "\n",
        "\tpred_type = choose_type(pred_type)\n",
        "\twith torch.no_grad():\n",
        "\t\tpred_barpos, pred_tone, pred_chord, pred_dur, pred_pitch = model.forward_sampling(h, pred_type)\n",
        "\n",
        "\ttype_vec = torch.tensor([0]*d_type).type(torch.FloatTensor).cuda()\n",
        "\tbarpos_vec = torch.tensor([0]*d_barpos).type(torch.FloatTensor).cuda()\n",
        "\ttone_vec = torch.tensor([0]*d_tone).type(torch.FloatTensor).cuda()\n",
        "\tchord_vec = torch.tensor([0]*d_chord).type(torch.FloatTensor).cuda()\n",
        "\tdur_vec = torch.tensor([0]*d_dur).type(torch.FloatTensor).cuda()\n",
        "\tpitch_vec = torch.tensor([0]*d_pitch).type(torch.FloatTensor).cuda()\n",
        "\n",
        "\t### Bar & Pos\n",
        "\tif pred_type[0, -1, 0] == 1:\n",
        "\t\ttype_vec[0] = 1\n",
        "\n",
        "\t\tsampled_barpos = nucleus_sampling(pred_barpos[0, -1, :].softmax(-1).tolist())\n",
        "\t\tbarpos_vec[sampled_barpos] = 1\n",
        "\n",
        "\t\ttone_vec[0] = 1\n",
        "\t\tchord_vec[0] = 1\n",
        "\t\tdur_vec[0] = 1\n",
        "\t\tpitch_vec[0] = 1\n",
        "\n",
        "\t### tone\n",
        "\telif pred_type[0, -1, 2] == 1:\n",
        "\t\ttype_vec[2] = 1\n",
        "\t\tbarpos_vec[0] = 1\n",
        "\n",
        "\t\tsampledtone = nucleus_sampling(pred_tone[0, -1, 1:].softmax(-1).tolist())\n",
        "\t\tcurtone = sampledtone\n",
        "\t\ttone_vec[sampledtone + 1] = 1\n",
        "\t\tchord_vec[0] = 1\n",
        "\t\tdur_vec[0] = 1\n",
        "\t\tpitch_vec[0] = 1\n",
        "\n",
        "\t### chord\n",
        "\telif pred_type[0, -1, 3] == 1:\n",
        "\t\ttype_vec[3] = 1\n",
        "\t\tbarpos_vec[0] = 1\n",
        "\t\ttone_vec[0] = 1\n",
        "\n",
        "\t\tsampledchord = nucleus_sampling(pred_chord[0, -1, 1:].softmax(-1).tolist())\n",
        "\t\tcurchord = sampledchord\n",
        "\t\tchord_vec[sampledchord + 1] = 1\n",
        "\t\tdur_vec[0] = 1\n",
        "\t\tpitch_vec[0] = 1\n",
        "\n",
        "\t### phrase\n",
        "\telif pred_type[0, -1, 4] == 1:\n",
        "\t\ttype_vec[4] = 1\n",
        "\t\tbarpos_vec[0] = 1\n",
        "\t\ttone_vec[0] = 1\n",
        "\t\tchord_vec[0] = 1\n",
        "\t\tdur_vec[0] = 1\n",
        "\t\tpitch_vec[0] = 1\n",
        "\n",
        "\t### notes\n",
        "\telse:\n",
        "\t\ttype_vec[1] = 1\n",
        "\t\tbarpos_vec[0] = 1\n",
        "\t\ttone_vec[0] = 1\n",
        "\t\tchord_vec[0] = 1\n",
        "\t\tsampleddur = nucleus_sampling(pred_dur[0, -1, 1:].softmax(-1).tolist())\n",
        "\t\tdur_vec[sampleddur + 1] = 1\n",
        "\t\tsampledpitch = nucleus_sampling(pred_pitch[0, -1, 1:].softmax(-1).tolist())\n",
        "\t\tpitch_vec[sampledpitch + 1] = 1\n",
        "\n",
        "\ttype_oh = torch.cat([type_oh, type_vec.unsqueeze(0)], 0)\n",
        "\tbarpos_oh = torch.cat([barpos_oh, barpos_vec.unsqueeze(0)], 0)\n",
        "\ttone_oh = torch.cat([tone_oh, tone_vec.unsqueeze(0)], 0)\n",
        "\tchord_oh = torch.cat([chord_oh, chord_vec.unsqueeze(0)], 0)\n",
        "\tdur_oh = torch.cat([dur_oh, dur_vec.unsqueeze(0)], 0)\n",
        "\tpitch_oh = torch.cat([pitch_oh, pitch_vec.unsqueeze(0)], 0)"
      ],
      "execution_count": 5,
      "outputs": []
    },
    {
      "cell_type": "code",
      "metadata": {
        "id": "A9SxNzew9WBJ"
      },
      "source": [
        "### write to midi\n",
        "item2midi(onehot2item(type_oh, barpos_oh, tone_oh, chord_oh, dur_oh, pitch_oh), \"output.mid\")"
      ],
      "execution_count": 6,
      "outputs": []
    }
  ]
}